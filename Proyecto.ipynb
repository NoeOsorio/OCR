{
  "nbformat": 4,
  "nbformat_minor": 0,
  "metadata": {
    "colab": {
      "name": "Proyecto.ipynb",
      "provenance": [],
      "collapsed_sections": [],
      "include_colab_link": true
    },
    "kernelspec": {
      "name": "python3",
      "display_name": "Python 3"
    }
  },
  "cells": [
    {
      "cell_type": "markdown",
      "metadata": {
        "id": "view-in-github",
        "colab_type": "text"
      },
      "source": [
        "<a href=\"https://colab.research.google.com/github/NoeOsorio/OCR/blob/master/Proyecto.ipynb\" target=\"_parent\"><img src=\"https://colab.research.google.com/assets/colab-badge.svg\" alt=\"Open In Colab\"/></a>"
      ]
    },
    {
      "cell_type": "markdown",
      "metadata": {
        "id": "VCvQ9gj0ou-0",
        "colab_type": "text"
      },
      "source": [
        "Lo primero es importar la librería de TensorFlow que se utilizará para crear la red neuronal."
      ]
    },
    {
      "cell_type": "code",
      "metadata": {
        "id": "qehGwoqK2LcC",
        "colab_type": "code",
        "outputId": "a42d17ea-42a0-431f-dffe-c741fe09c221",
        "colab": {
          "base_uri": "https://localhost:8080/",
          "height": 34
        }
      },
      "source": [
        "try:\n",
        "  # %tensorflow_version only exists in Colab.\n",
        "  %tensorflow_version 2.x\n",
        "except Exception:\n",
        "  pass"
      ],
      "execution_count": 0,
      "outputs": [
        {
          "output_type": "stream",
          "text": [
            "TensorFlow 2.x selected.\n"
          ],
          "name": "stdout"
        }
      ]
    },
    {
      "cell_type": "code",
      "metadata": {
        "id": "IfjLNmVInIsL",
        "colab_type": "code",
        "colab": {}
      },
      "source": [
        "#TensorFlow y Keras\n",
        "from __future__ import absolute_import, division, print_function, unicode_literals\n",
        "import tensorflow as tf\n",
        "from tensorflow import keras\n",
        "import tensorflow_datasets as tfds\n",
        "\n",
        "#Herramientas\n",
        "import numpy as np\n",
        "import matplotlib.pyplot as plt"
      ],
      "execution_count": 0,
      "outputs": []
    },
    {
      "cell_type": "markdown",
      "metadata": {
        "id": "bnsRDr_Krd6M",
        "colab_type": "text"
      },
      "source": [
        "Los caracteres se representarán como matrices de 4x4, donde cada elemento tiene 0 o 1, dependiendo si el pixel es de color negro o blanco."
      ]
    },
    {
      "cell_type": "code",
      "metadata": {
        "id": "HpQjeUHTrsPR",
        "colab_type": "code",
        "outputId": "bbea86fe-1a3f-44e2-975e-903260b9269d",
        "colab": {
          "base_uri": "https://localhost:8080/",
          "height": 51
        }
      },
      "source": [
        "x = [\n",
        "     1, 0, 0, 1,\n",
        "     0, 1, 1, 0,\n",
        "     0, 1, 1, 0,\n",
        "     1, 0, 0, 1,\n",
        "]\n",
        "\n",
        "m = [\n",
        "     1, 0, 0, 1,\n",
        "     1, 1, 1, 1,\n",
        "     1, 0, 0, 1,\n",
        "     1, 0, 0, 1,\n",
        "]\n",
        "\n",
        "n = [\n",
        "     1, 0, 0, 1,\n",
        "     1, 1, 0, 1,\n",
        "     1, 0, 1, 1,\n",
        "     1, 0, 0, 1,\n",
        "]\n",
        "\n",
        "c = [\n",
        "     1, 1, 1, 1,\n",
        "     1, 0, 0, 0,\n",
        "     1, 0, 0, 0,\n",
        "     1, 1, 1, 1,\n",
        "]\n",
        "\n",
        "p = [\n",
        "     1, 1, 1, 0,\n",
        "     1, 0, 1, 0,\n",
        "     1, 1, 1, 0,\n",
        "     1, 0, 0, 0,\n",
        "]\n",
        "\n",
        "training_set = [x, nx, m, n, c, p]\n",
        "test_set = [x, nx, m, n, c, p]\n",
        "for i in range(5):\n",
        "  training_set[i] = (np.array(training_set[i]))\n",
        "training_set = np.array(training_set)\n",
        "test_set = np.array(test_set)\n",
        "print(training_set.shape)\n",
        "training_labels = np.array([0,0,1,2,3,4])\n",
        "print(training_labels.shape)  \n",
        "letters_names = [\"x\", \"m\", \"n\", \"c\", \"p\"]"
      ],
      "execution_count": 0,
      "outputs": [
        {
          "output_type": "stream",
          "text": [
            "(6, 16)\n",
            "(6,)\n"
          ],
          "name": "stdout"
        }
      ]
    },
    {
      "cell_type": "markdown",
      "metadata": {
        "id": "2d7elHO13NWI",
        "colab_type": "text"
      },
      "source": [
        "Lo siguiente es definir el modelo, que consistirá en dos capas. La primera capa tiene 16 inputs y 4 neuronas, y la segunda tiene 4 inputs y 5 neuronas. Se utilizará la función de activación sigmoidal para los 5 outputs."
      ]
    },
    {
      "cell_type": "code",
      "metadata": {
        "id": "Zh6qVN9X019I",
        "colab_type": "code",
        "colab": {}
      },
      "source": [
        "model = keras.Sequential()\n",
        "model.add(keras.layers.Dense(4,input_dim=16, activation='relu'))\n",
        "model.add(keras.layers.Dense(6, activation='relu'))\n",
        "model.add(keras.layers.Dense(6, activation='sigmoid'))"
      ],
      "execution_count": 0,
      "outputs": []
    },
    {
      "cell_type": "markdown",
      "metadata": {
        "id": "_tuReeHg7O01",
        "colab_type": "text"
      },
      "source": [
        "Posteriormente, se realiza la compilación del modelo."
      ]
    },
    {
      "cell_type": "code",
      "metadata": {
        "id": "qibigmfQ7RjU",
        "colab_type": "code",
        "colab": {}
      },
      "source": [
        "model.compile(optimizer='rmsprop',\n",
        "              loss='sparse_categorical_crossentropy',\n",
        "              metrics=['accuracy'])"
      ],
      "execution_count": 0,
      "outputs": []
    },
    {
      "cell_type": "markdown",
      "metadata": {
        "id": "o6iCJyHU7-Xc",
        "colab_type": "text"
      },
      "source": [
        "Una vez compilado el model, procedemos a entrenarlo con un set de entrenamiento."
      ]
    },
    {
      "cell_type": "code",
      "metadata": {
        "id": "GXMFZLSU8Kou",
        "colab_type": "code",
        "outputId": "25dbdba3-4abc-4ba0-fbef-e7062d06d7f8",
        "colab": {
          "base_uri": "https://localhost:8080/",
          "height": 391
        }
      },
      "source": [
        "model.fit(training_set, training_labels, epochs=10)"
      ],
      "execution_count": 0,
      "outputs": [
        {
          "output_type": "stream",
          "text": [
            "Train on 6 samples\n",
            "Epoch 1/10\n",
            "6/6 [==============================] - 0s 17ms/sample - loss: 1.8296 - acc: 0.3333\n",
            "Epoch 2/10\n",
            "6/6 [==============================] - 0s 346us/sample - loss: 1.8224 - acc: 0.3333\n",
            "Epoch 3/10\n",
            "6/6 [==============================] - 0s 280us/sample - loss: 1.8174 - acc: 0.3333\n",
            "Epoch 4/10\n",
            "6/6 [==============================] - 0s 356us/sample - loss: 1.8134 - acc: 0.3333\n",
            "Epoch 5/10\n",
            "6/6 [==============================] - 0s 315us/sample - loss: 1.8099 - acc: 0.3333\n",
            "Epoch 6/10\n",
            "6/6 [==============================] - 0s 318us/sample - loss: 1.8068 - acc: 0.3333\n",
            "Epoch 7/10\n",
            "6/6 [==============================] - 0s 333us/sample - loss: 1.8039 - acc: 0.3333\n",
            "Epoch 8/10\n",
            "6/6 [==============================] - 0s 277us/sample - loss: 1.8012 - acc: 0.3333\n",
            "Epoch 9/10\n",
            "6/6 [==============================] - 0s 296us/sample - loss: 1.7986 - acc: 0.3333\n",
            "Epoch 10/10\n",
            "6/6 [==============================] - 0s 327us/sample - loss: 1.7961 - acc: 0.3333\n"
          ],
          "name": "stdout"
        },
        {
          "output_type": "execute_result",
          "data": {
            "text/plain": [
              "<tensorflow.python.keras.callbacks.History at 0x7f247a82ed68>"
            ]
          },
          "metadata": {
            "tags": []
          },
          "execution_count": 109
        }
      ]
    },
    {
      "cell_type": "code",
      "metadata": {
        "id": "mPzpygvVA2h1",
        "colab_type": "code",
        "outputId": "a8d61b69-b557-48f4-f380-f9285934005a",
        "colab": {
          "base_uri": "https://localhost:8080/",
          "height": 34
        }
      },
      "source": [
        "test_loss, test_acc = model.evaluate(training_set, training_labels, verbose=2)"
      ],
      "execution_count": 0,
      "outputs": [
        {
          "output_type": "stream",
          "text": [
            "6/6 - 0s - loss: 1.7938 - acc: 0.3333\n"
          ],
          "name": "stdout"
        }
      ]
    },
    {
      "cell_type": "code",
      "metadata": {
        "id": "XWfS8RVOBQm2",
        "colab_type": "code",
        "outputId": "33d8b613-95bd-47ba-c31f-935c0d853b1d",
        "colab": {
          "base_uri": "https://localhost:8080/",
          "height": 51
        }
      },
      "source": [
        "predictions = model.predict(test_set)\n",
        "\n",
        "print(predictions[0])\n",
        "\n",
        "np.argmax(predictions[0])"
      ],
      "execution_count": 0,
      "outputs": [
        {
          "output_type": "stream",
          "text": [
            "[0.5958739  0.5247234  0.5175821  0.47306964 0.5371851  0.5378305 ]\n"
          ],
          "name": "stdout"
        },
        {
          "output_type": "execute_result",
          "data": {
            "text/plain": [
              "0"
            ]
          },
          "metadata": {
            "tags": []
          },
          "execution_count": 111
        }
      ]
    }
  ]
}